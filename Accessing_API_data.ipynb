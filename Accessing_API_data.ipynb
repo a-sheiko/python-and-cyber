{
  "nbformat": 4,
  "nbformat_minor": 0,
  "metadata": {
    "colab": {
      "provenance": [],
      "include_colab_link": true
    },
    "kernelspec": {
      "name": "python3",
      "display_name": "Python 3"
    },
    "language_info": {
      "name": "python"
    }
  },
  "cells": [
    {
      "cell_type": "markdown",
      "metadata": {
        "id": "view-in-github",
        "colab_type": "text"
      },
      "source": [
        "<a href=\"https://colab.research.google.com/github/a-sheiko/python-and-cyber/blob/main/Accessing_API_data.ipynb\" target=\"_parent\"><img src=\"https://colab.research.google.com/assets/colab-badge.svg\" alt=\"Open In Colab\"/></a>"
      ]
    },
    {
      "cell_type": "markdown",
      "source": [
        "# Accessing API data with Python\n",
        "---\n",
        "\n",
        "Now that you have accessed an API with Postman, which makes the process a little easier.  Have a go at calling the API using Python, again a reasonably easy process.\n"
      ],
      "metadata": {
        "id": "jUn5To-yFXXn"
      }
    },
    {
      "cell_type": "markdown",
      "source": [
        "### First store the API key in an environment variable for security\n",
        "---\n",
        "\n",
        "Python is an interpreted language and the code exists in its text form while it is running. It can be relatively easily stopped and viewed during execution. This means that setting the key in the code is not really secure.\n",
        "\n",
        "Most development environments provide the facility to store '**environment variables**'. These are kept separate from the code and so can be kept private.\n",
        "\n",
        "**Setting an environment variable in a colab notebook**\n",
        "The main thing is to not store the key in the notebook (as these can be shared). You can avoid this by making sure that all who will run the code in the notebook know the key and can copy it in just for when they are working in the notebook. The notebook will delete all data on closing the session and so the notebook can be shared without sharing the key.\n",
        "\n",
        "Here is a way to store data in the notebook environment when it is opened so that it is then available just for that session.\n",
        "\n",
        "First: install a library into the notebook to manage the environment:\n",
        "Then:  import that library, along with an operating system library and a function that can manage the output in a colab.\n",
        "\n",
        "Then:  get the key from the user (who could paste it in) and store that key in the notebook's operating system environment (calling it 'API_KEY')\n",
        "\n",
        "Then:  clear the output so that there is no visibility of the key.  It will still be there to use until the notebook is closed, and it won't be included in any copy of the notebook shared on Github."
      ],
      "metadata": {
        "id": "npqKxDTAsAAZ"
      }
    },
    {
      "cell_type": "code",
      "source": [
        "!pip install python-dotenv\n",
        "import dotenv\n",
        "import os\n",
        "from google.colab import output\n",
        "\n",
        "key = input(\"Enter the API key: \")\n",
        "os.environ['API_KEY'] = key\n",
        "output.clear()"
      ],
      "metadata": {
        "id": "ZfkUkTI-xhDI"
      },
      "execution_count": 1,
      "outputs": []
    },
    {
      "cell_type": "markdown",
      "source": [
        "### Run the code in the cell ABOVE, before running the code below\n",
        "\n",
        "### The requests library\n",
        "Python has a requests library which has the instructions to make the request.\n",
        "\n",
        "*  Import the requests library  \n",
        "*  Create a request headers (containing the API key WHICH MUST BE ENTERED EACH TIME FOR SECURITY)   \n",
        "*  Clear the display so that the security key is immediately hidden\n",
        "*  Create the payload (same as in postman - *the payload is the data needed to clarify what you are requesting*)\n",
        "Send the request (with url, the request header and payload as data (the body))    \n",
        "*  Print the response\n",
        "\n",
        "**REMEMBER** to add your name in the `admin_name` field to allow the database to be named with your name.  This allows you to have a database file that only you are editing, so that the data remains as expected during the testing process."
      ],
      "metadata": {
        "id": "vLOsze3rzNsO"
      }
    },
    {
      "cell_type": "code",
      "execution_count": 3,
      "metadata": {
        "id": "L4DvY-VfFTfR",
        "outputId": "3932a1f0-7ed1-4eec-bf42-d06a2ef483b4",
        "colab": {
          "base_uri": "https://localhost:8080/"
        }
      },
      "outputs": [
        {
          "output_type": "stream",
          "name": "stdout",
          "text": [
            "\"Database connected and savings table created. Test data added\"\n"
          ]
        }
      ],
      "source": [
        "import requests\n",
        "import json\n",
        "\n",
        "def run_test_setup():\n",
        "\n",
        "  url = \"https://32614btzed.execute-api.eu-west-2.amazonaws.com/testing/savings-app\"\n",
        "\n",
        "  headers = {\n",
        "      \"Content-Type\":\"application/json\",\n",
        "      \"x-api-key\": os.environ.get('API_KEY')\n",
        "  }\n",
        "\n",
        "  payload = {\n",
        "      \"instruction\":\"setup_for_testing\",\n",
        "      \"data\":{},\n",
        "      \"admin_name\":\"test2\"\n",
        "  }\n",
        "\n",
        "  response = requests.post(url, headers=headers, data=json.dumps(payload))\n",
        "  print(response.text)\n",
        "\n",
        "#########################################################################################################\n",
        "# run_test_setup to make a request to setup the database for testing using the setup_for_testing function\n",
        "run_test_setup()"
      ]
    },
    {
      "cell_type": "markdown",
      "source": [
        "### Create a new request for the get_columns function\n",
        "---\n",
        "Again, ensure that you ask for input of the API key.  This is only so that if you upload this worksheet to Github, you won't expose the key as long as you haven't saved it in the worksheet.\n",
        "\n",
        "Add the request code in the code cell below."
      ],
      "metadata": {
        "id": "CvkXSyBrKkA-"
      }
    },
    {
      "cell_type": "code",
      "source": [
        "import requests\n",
        "import json\n",
        "\n",
        "def get_columns():\n",
        "\n",
        "  url = \"https://32614btzed.execute-api.eu-west-2.amazonaws.com/testing/savings-app\"\n",
        "\n",
        "  headers = {\n",
        "      \"Content-Type\":\"application/json\",\n",
        "      \"x-api-key\": os.environ.get('API_KEY')\n",
        "  }\n",
        "\n",
        "  payload = {\n",
        "      \"instruction\":\"get_columns\",\n",
        "      \"data\":{},\n",
        "      \"admin_name\":\"test2\"\n",
        "  }\n",
        "\n",
        "  response = requests.post(url, headers=headers, data=json.dumps(payload))\n",
        "  print(response.text)\n",
        "\n",
        "get_columns()"
      ],
      "metadata": {
        "id": "kDobki_6K84Q",
        "outputId": "29ac11f2-495a-426c-d8da-6fc842b477db",
        "colab": {
          "base_uri": "https://localhost:8080/"
        }
      },
      "execution_count": 4,
      "outputs": [
        {
          "output_type": "stream",
          "name": "stdout",
          "text": [
            "[\"user_id\", \"balance\"]\n"
          ]
        }
      ]
    },
    {
      "cell_type": "markdown",
      "source": [
        "### Now add the other two requests (get_data, add_funds)"
      ],
      "metadata": {
        "id": "o_P9sRM1Kki9"
      }
    },
    {
      "cell_type": "code",
      "source": [
        "import requests\n",
        "import json\n",
        "\n",
        "def get_data():\n",
        "\n",
        "  url = \"https://32614btzed.execute-api.eu-west-2.amazonaws.com/testing/savings-app\"\n",
        "\n",
        "  headers = {\n",
        "      \"Content-Type\":\"application/json\",\n",
        "      \"x-api-key\": os.environ.get('API_KEY')\n",
        "  }\n",
        "\n",
        "  payload = {\n",
        "      \"instruction\":\"get_columns\",\n",
        "      \"data\":{},\n",
        "      \"admin_name\":\"test2\"\n",
        "  }\n",
        "\n",
        "  response = requests.post(url, headers=headers, data=json.dumps(payload))\n",
        "  print(response.text)\n",
        "\n",
        "get_data()"
      ],
      "metadata": {
        "id": "YMpWG4G0LQbF",
        "outputId": "0ca04a80-3d0f-46b7-e25a-5bf703923ac3",
        "colab": {
          "base_uri": "https://localhost:8080/"
        }
      },
      "execution_count": 5,
      "outputs": [
        {
          "output_type": "stream",
          "name": "stdout",
          "text": [
            "[\"user_id\", \"balance\"]\n"
          ]
        }
      ]
    },
    {
      "cell_type": "code",
      "source": [
        "import requests\n",
        "import json\n",
        "\n",
        "def add_funds():\n",
        "\n",
        "  url = \"https://32614btzed.execute-api.eu-west-2.amazonaws.com/testing/savings-app\"\n",
        "\n",
        "  headers = {\n",
        "      \"Content-Type\":\"application/json\",\n",
        "      \"x-api-key\": os.environ.get('API_KEY')\n",
        "  }\n",
        "\n",
        "  payload = {\n",
        "      \"instruction\":\"add_funds\",\n",
        "      \"data\":{\n",
        "        \"user_id\":2,\n",
        "        \"amount\":99\n",
        "      },\n",
        "      \"admin_name\":\"test2\"\n",
        "  }\n",
        "\n",
        "  response = requests.post(url, headers=headers, data=json.dumps(payload))\n",
        "  print(response.text)\n",
        "\n",
        "add_funds()"
      ],
      "metadata": {
        "id": "VK8Xr3i5LQvi",
        "outputId": "1fb81b34-2178-4ae8-8b47-a8c62aea9887",
        "colab": {
          "base_uri": "https://localhost:8080/"
        }
      },
      "execution_count": 7,
      "outputs": [
        {
          "output_type": "stream",
          "name": "stdout",
          "text": [
            "\"Record for user: 2 updated - 99 added\"\n"
          ]
        }
      ]
    },
    {
      "cell_type": "markdown",
      "source": [
        "### And finally - add your own request to remove funds of 5 from user_id 2"
      ],
      "metadata": {
        "id": "CRtP8WiVLRSQ"
      }
    },
    {
      "cell_type": "code",
      "source": [
        "\n",
        "import requests\n",
        "import json\n",
        "\n",
        "def remove_funds():\n",
        "\n",
        "  url = \"https://32614btzed.execute-api.eu-west-2.amazonaws.com/testing/savings-app\"\n",
        "\n",
        "  headers = {\n",
        "      \"Content-Type\":\"application/json\",\n",
        "      \"x-api-key\": os.environ.get('API_KEY')\n",
        "  }\n",
        "\n",
        "  payload = {\n",
        "      \"instruction\":\"remove_funds\",\n",
        "      \"data\":{\n",
        "        \"user_id\":2,\n",
        "        \"amount\":5\n",
        "      },\n",
        "      \"admin_name\":\"test2\"\n",
        "  }\n",
        "\n",
        "  response = requests.post(url, headers=headers, data=json.dumps(payload))\n",
        "  print(response.text)\n",
        "\n",
        "remove_funds()\n"
      ],
      "metadata": {
        "id": "vmYpPs0FL1mp",
        "outputId": "27aee46a-07bd-424c-8309-ddb0e7e60858",
        "colab": {
          "base_uri": "https://localhost:8080/"
        }
      },
      "execution_count": 10,
      "outputs": [
        {
          "output_type": "stream",
          "name": "stdout",
          "text": [
            "\"Record for user: 2 updated - 5 removed\"\n"
          ]
        }
      ]
    },
    {
      "cell_type": "markdown",
      "source": [
        "### Upload the worksheet to Github but only if the API key is not showing anywhere in the worksheet."
      ],
      "metadata": {
        "id": "D0xtviPgL2F8"
      }
    }
  ]
}