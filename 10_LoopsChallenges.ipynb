{
  "nbformat": 4,
  "nbformat_minor": 0,
  "metadata": {
    "colab": {
      "provenance": [],
      "include_colab_link": true
    },
    "kernelspec": {
      "name": "python3",
      "display_name": "Python 3"
    }
  },
  "cells": [
    {
      "cell_type": "markdown",
      "metadata": {
        "id": "view-in-github",
        "colab_type": "text"
      },
      "source": [
        "<a href=\"https://colab.research.google.com/github/a-sheiko/python-and-cyber/blob/main/Copy_of_10_LoopsChallenges.ipynb\" target=\"_parent\"><img src=\"https://colab.research.google.com/assets/colab-badge.svg\" alt=\"Open In Colab\"/></a>"
      ]
    },
    {
      "cell_type": "markdown",
      "metadata": {
        "id": "lGjlNDuSFdXx"
      },
      "source": [
        "# Loop Challenges\n",
        "\n",
        "---\n",
        "\n",
        "Each of these challenges will need a loop.  This may be a **while** loop or a **for** loop, you will need to decide which is needed."
      ]
    },
    {
      "cell_type": "markdown",
      "metadata": {
        "id": "nSx5LRcdLzx-"
      },
      "source": [
        "\n",
        "---\n",
        "## Challenge 1 - Sum of random numbers\n",
        "Write a function called **random_generator()** where python generates random numbers between 1 and 100 until the number 1 is generated.\n",
        "\n",
        "* use `randint(1, 100)` to generate random numbers\n",
        "* keep a running `total` - add numbers as they are generated\n",
        "* print `total` at the end\n",
        "* print the final generated number (should be 1) to check your function is working\n",
        "\n",
        "Example input (computer):\n",
        "\n",
        "10  \n",
        "78  \n",
        "6  \n",
        "42  \n",
        "56  \n",
        "81  \n",
        "15   \n",
        "1  \n",
        "\n",
        "Expected output:  \n",
        "\n",
        "289  \n",
        "1  "
      ]
    },
    {
      "cell_type": "code",
      "metadata": {
        "id": "FRRBydPTN3cv",
        "colab": {
          "base_uri": "https://localhost:8080/"
        },
        "outputId": "6471fd03-9ce4-40f8-9042-f642ce69dcb4"
      },
      "source": [
        "from random import randint\n",
        "\n",
        "def random_generator():\n",
        "  sum = 0\n",
        "\n",
        "  while True:\n",
        "    number = randint(1, 100)\n",
        "    sum += number\n",
        "    print(number)\n",
        "\n",
        "    if number == 1:\n",
        "      break\n",
        "\n",
        "  print(sum)\n",
        "  print(number)\n",
        "\n",
        "random_generator()\n",
        "\n"
      ],
      "execution_count": null,
      "outputs": [
        {
          "output_type": "stream",
          "name": "stdout",
          "text": [
            "10\n",
            "24\n",
            "64\n",
            "20\n",
            "30\n",
            "38\n",
            "48\n",
            "95\n",
            "63\n",
            "58\n",
            "48\n",
            "56\n",
            "16\n",
            "92\n",
            "22\n",
            "74\n",
            "80\n",
            "100\n",
            "11\n",
            "66\n",
            "49\n",
            "19\n",
            "78\n",
            "83\n",
            "15\n",
            "55\n",
            "99\n",
            "56\n",
            "42\n",
            "59\n",
            "59\n",
            "34\n",
            "11\n",
            "98\n",
            "19\n",
            "48\n",
            "12\n",
            "57\n",
            "77\n",
            "31\n",
            "84\n",
            "18\n",
            "22\n",
            "5\n",
            "97\n",
            "55\n",
            "6\n",
            "40\n",
            "23\n",
            "78\n",
            "85\n",
            "86\n",
            "75\n",
            "57\n",
            "29\n",
            "7\n",
            "45\n",
            "29\n",
            "40\n",
            "63\n",
            "14\n",
            "34\n",
            "48\n",
            "40\n",
            "44\n",
            "69\n",
            "10\n",
            "72\n",
            "10\n",
            "90\n",
            "42\n",
            "61\n",
            "12\n",
            "89\n",
            "17\n",
            "95\n",
            "10\n",
            "30\n",
            "19\n",
            "94\n",
            "80\n",
            "72\n",
            "14\n",
            "22\n",
            "67\n",
            "81\n",
            "45\n",
            "96\n",
            "48\n",
            "85\n",
            "64\n",
            "8\n",
            "76\n",
            "56\n",
            "88\n",
            "40\n",
            "90\n",
            "46\n",
            "38\n",
            "4\n",
            "84\n",
            "60\n",
            "27\n",
            "61\n",
            "64\n",
            "71\n",
            "12\n",
            "62\n",
            "95\n",
            "33\n",
            "97\n",
            "82\n",
            "45\n",
            "69\n",
            "41\n",
            "81\n",
            "14\n",
            "24\n",
            "66\n",
            "91\n",
            "83\n",
            "4\n",
            "96\n",
            "4\n",
            "13\n",
            "38\n",
            "67\n",
            "74\n",
            "23\n",
            "72\n",
            "84\n",
            "21\n",
            "1\n",
            "6739\n",
            "1\n"
          ]
        }
      ]
    },
    {
      "cell_type": "markdown",
      "metadata": {
        "id": "aX8me4xxPMc0"
      },
      "source": [
        "---\n",
        "## Challenge 2 - Factorials\n",
        "\n",
        "Factorial of any number n is represented by n! and is equal to 1*2*3*....*(n-1)*n.\n",
        "\n",
        "E.g.   \n",
        "* 4! = 1 * 2 * 3 * 4 = 24  \n",
        "* 3! = 3 * 2 * 1 = 6\n",
        "* 2! = 2 * 1 = 2  \n",
        " Also,\n",
        "* 1! = 1\n",
        "* 0! = 1\n",
        "\n",
        "Write a function called **calculate_factorial()** which calculates the factorial of a user inputed number.\n",
        "\n",
        "* use a *while* loop to control repetition while the number being multiplied by is less than or equal to the number it is finding the factorial of, multiply each time round the loop  \n",
        "* print the answer at the end\n",
        "\n",
        "Test input:  \n",
        "\n",
        "6   \n",
        "10  \n",
        "1  \n",
        "0  \n",
        "\n",
        "Expected output:  \n",
        "\n",
        "720  \n",
        "3,628,800  \n",
        "1  \n",
        "1  \n",
        "\n",
        "### Extra challenge\n",
        "\n",
        "Can you write a function to calculate factorials but using a *for* loop instead?\n",
        "\n",
        "\n"
      ]
    },
    {
      "cell_type": "code",
      "metadata": {
        "id": "qcXqzf_lQDOv",
        "colab": {
          "base_uri": "https://localhost:8080/"
        },
        "outputId": "205e6897-706c-418e-ff7b-259c0c74630b"
      },
      "source": [
        "def calculate_factorial():\n",
        "  number = int(input(\"Enter the number: \"))\n",
        "\n",
        "  result = 1\n",
        "\n",
        "  while number > 1:\n",
        "    result *= number\n",
        "    number -= 1\n",
        "\n",
        "  print(result)\n",
        "\n",
        "calculate_factorial()\n",
        "calculate_factorial()\n",
        "calculate_factorial()\n",
        "calculate_factorial()\n"
      ],
      "execution_count": null,
      "outputs": [
        {
          "output_type": "stream",
          "name": "stdout",
          "text": [
            "Enter the number: 6\n",
            "720\n",
            "Enter the number: 10\n",
            "3628800\n",
            "Enter the number: 1\n",
            "1\n",
            "Enter the number: 0\n",
            "1\n"
          ]
        }
      ]
    },
    {
      "cell_type": "markdown",
      "metadata": {
        "id": "q1q-bTvERBHm"
      },
      "source": [
        "---\n",
        "## Challenge 3 - rolling a dice\n",
        "\n",
        "Write a function called **roll_dice()** that will use the `randint()` function from random to create random dice rolls for two dice.\n",
        "\n",
        "*  'roll' the two dice 6 times and count how many doubles were rolled in those 6 rolls.\n",
        "*  use a *for* loop\n",
        "\n",
        "*Hint: to throw a dice use the following:*\n",
        "\n",
        "`dice1 = randint(1,6)`\n",
        "\n",
        "Example input (computer):  \n",
        "\n",
        "4 1   \n",
        "5 5   \n",
        "6 3   \n",
        "2 2   \n",
        "3 4  \n",
        "1 1\n",
        "\n",
        "Expected output:\n",
        "\n",
        "3   "
      ]
    },
    {
      "cell_type": "code",
      "metadata": {
        "id": "tppPCMWHR5Vv",
        "colab": {
          "base_uri": "https://localhost:8080/"
        },
        "outputId": "4f8839f0-3ca5-4ad3-a615-65628b667ab4"
      },
      "source": [
        "from random import randint\n",
        "\n",
        "# Add your function below here\n",
        "def roll_dice():\n",
        "  count = 0\n",
        "\n",
        "  for i in range(6):\n",
        "    dice1 = randint(1, 6)\n",
        "    dice2 = randint(1, 6)\n",
        "\n",
        "    print(f\"{dice1} {dice2}\")\n",
        "\n",
        "    if dice1 == dice2:\n",
        "      count += 1\n",
        "\n",
        "  print(count)\n",
        "\n",
        "roll_dice()\n",
        "\n",
        "\n",
        "\n"
      ],
      "execution_count": null,
      "outputs": [
        {
          "output_type": "stream",
          "name": "stdout",
          "text": [
            "6 5\n",
            "3 1\n",
            "3 5\n",
            "5 5\n",
            "4 2\n",
            "3 6\n",
            "1\n"
          ]
        }
      ]
    },
    {
      "cell_type": "markdown",
      "metadata": {
        "id": "Kn0hb-ORSETx"
      },
      "source": [
        "---\n",
        "## Challenge 4 - fizz buzz\n",
        "\n",
        "Write a function called **fizz_buzz()** using a *for* loop which:\n",
        "\n",
        "* iterates over the numbers 1 to 30   \n",
        "* if the **number** is a multiple of 3 - print \"fizz\" instead of the `number`  \n",
        "* if it is a multiple of 5 - print \"buzz\" instead of the `number`   \n",
        "* if it is a multiple of both 3 and 5 - print \"fizzbuzz\" instead of the `number`    \n",
        "\n",
        "Expected Output:   \n",
        "1  \n",
        "2  \n",
        "fizz  \n",
        "4  \n",
        "buzz  \n",
        "fizz  \n",
        "7  \n",
        "8  \n",
        "fizz  \n",
        "buzz  \n",
        "11  \n",
        "fizz  \n",
        "13  \n",
        "14  \n",
        "fizzbuzz  \n",
        "16  \n",
        "17  \n",
        "fizz  \n",
        "19  \n",
        "buzz  \n",
        "fizz  \n",
        "22  \n",
        "23  \n",
        "fizz  \n",
        "buzz  \n",
        "26  \n",
        "fizz  \n",
        "28  \n",
        "29  \n",
        "fizzbuzz  "
      ]
    },
    {
      "cell_type": "code",
      "metadata": {
        "id": "L3CBRgNdSZhy",
        "colab": {
          "base_uri": "https://localhost:8080/"
        },
        "outputId": "fac1d2b9-58d1-4036-d206-1c2209059547"
      },
      "source": [
        "def fizz_buzz():\n",
        "\n",
        "  for number in range(1, 31):\n",
        "    if number % 5 == 0 and number % 3 == 0:\n",
        "      print(f\"fizzbuzz\")\n",
        "    elif number % 5 == 0:\n",
        "      print(f\"buzz\")\n",
        "    elif  number % 3 == 0:\n",
        "      print(f\"fizz\")\n",
        "    else:\n",
        "      print(number)\n",
        "\n",
        "fizz_buzz()"
      ],
      "execution_count": null,
      "outputs": [
        {
          "output_type": "stream",
          "name": "stdout",
          "text": [
            "1\n",
            "2\n",
            "fizz\n",
            "4\n",
            "buzz\n",
            "fizz\n",
            "7\n",
            "8\n",
            "fizz\n",
            "buzz\n",
            "11\n",
            "fizz\n",
            "13\n",
            "14\n",
            "fizzbuzz\n",
            "16\n",
            "17\n",
            "fizz\n",
            "19\n",
            "buzz\n",
            "fizz\n",
            "22\n",
            "23\n",
            "fizz\n",
            "buzz\n",
            "26\n",
            "fizz\n",
            "28\n",
            "29\n",
            "fizzbuzz\n"
          ]
        }
      ]
    },
    {
      "cell_type": "markdown",
      "metadata": {
        "id": "xFo3wYgkTBLs"
      },
      "source": [
        "---\n",
        "## Challenge 5 - perfect numbers\n",
        "\n",
        "Write a function called **check_perfect()** which checks whether a given number is perfect or not.\n",
        "\n",
        "* *a perfect number is a positive integer that is equal to the sum of its positive factors (factors > 0) excluding the number itself.*\n",
        "* *it is also half the sum of all positive factors including itself*\n",
        "\n",
        "\n",
        "*For example:*  \n",
        "*6 is a perfect number. It's only factors are 1, 2 & 3.   \n",
        "1 + 2 + 3 = 6  \n",
        "(1 + 2 + 3 + 6)/2 =6*  \n",
        "\n",
        "**Your function will:**\n",
        "\n",
        "* ask the user to input a **number**\n",
        "* find all of the given numbers that are positive factors, adding them together as it goes through the loop\n",
        "* check whether `number` is perfect or not (both checks)  \n",
        "* print either `number` is perfect or `number` is not perfect\n",
        "\n",
        "Test input:  \n",
        "6   \n",
        "23   \n",
        "28\n",
        "\n",
        "Expected output:  \n",
        "6 is perfect   \n",
        "23 is not perfect  \n",
        "28 is perfect    \n",
        "\n",
        "\n",
        "\n"
      ]
    },
    {
      "cell_type": "code",
      "metadata": {
        "id": "RsYuicPCWHqo",
        "colab": {
          "base_uri": "https://localhost:8080/"
        },
        "outputId": "9dc884a8-843f-4c62-d79d-ac49be785008"
      },
      "source": [
        "def check_perfect():\n",
        "  number = int(input(\"Enter the number: \"))\n",
        "  sum = 0\n",
        "\n",
        "  for i in range(1, number):\n",
        "    if number % i == 0:\n",
        "        sum = sum + i\n",
        "\n",
        "  if sum == number:\n",
        "    print(f\"{number} is perfect number\")\n",
        "  else:\n",
        "    print(f\"{number} is not a perfect number\")\n",
        "\n",
        "check_perfect()\n",
        "check_perfect()\n",
        "check_perfect()"
      ],
      "execution_count": 7,
      "outputs": [
        {
          "output_type": "stream",
          "name": "stdout",
          "text": [
            "Enter the number: 6\n",
            "6 is perfect number\n",
            "Enter the number: 23\n",
            "23 is not a perfect number\n",
            "Enter the number: 28\n",
            "28 is perfect number\n"
          ]
        }
      ]
    },
    {
      "cell_type": "markdown",
      "metadata": {
        "id": "i8sxKhcEH11h"
      },
      "source": [
        "## Challenge 6 - Passcode   \n",
        "\n",
        "Write a function called **guess_letter(passcode, missing_letter)** which will allow a user to play a game with the computer.  \n",
        "\n",
        "* the computer needs to 'generate' a random passcode with a missing letter (this is done for you)   \n",
        "* the user has up to three attempts to guess the missing letter in a passcode.  \n",
        "\n",
        "### the passcode generator  \n",
        "\n",
        "This code is given to you and will choose 4 letters in the range A-Z (capitals only) and randomly selecting one to be replaced by a *  \n",
        "\n",
        "**Your function should follow these rules:**\n",
        "\n",
        "*  ask the user to enter the missing **letter**  \n",
        "*  count the **attempt**  \n",
        "* if the letter is correct, print the message \"Correct passcode\" and then stop    \n",
        "* if the letter is incorrect, print the message, \"You have `attempts` attempts left\"  \n",
        "* if three wrong attempts have been made and the user hasn't entered the correct letter, print \"No more attempts\"  \n",
        "\n",
        "Example input (computer):  \n",
        "\n",
        "NR*R , B\n",
        "\n",
        "Example input (user):  \n",
        "A    \n",
        "B  \n",
        "C  \n",
        "\n",
        "Expected output:  \n",
        "No more attempts   \n",
        "\n",
        "Example input (computer):  \n",
        "A*RD , T  \n",
        "\n",
        "Example input (user):  \n",
        "T    \n",
        "\n",
        "Expected output:  \n",
        "Correct passcode  \n",
        "\n",
        "Example input (computer):  \n",
        "*FES , F  \n",
        "\n",
        "Example input (user):  \n",
        "T\n",
        "F    \n",
        "\n",
        "Expected output:  \n",
        "You have 2 attempts left\n",
        "Correct passcode"
      ]
    },
    {
      "cell_type": "code",
      "metadata": {
        "id": "NJp2CgvtKP2Q",
        "colab": {
          "base_uri": "https://localhost:8080/",
          "height": 140
        },
        "outputId": "c8514e7e-404f-4337-9477-a6b53932cb78"
      },
      "source": [
        "### importing package random\n",
        "from random import choice, randint\n",
        "\n",
        "def guess_passcode(passcode, missing_letter):\n",
        "# add your code below here:\n",
        "\n",
        "\n",
        "\n",
        "\n",
        "### code to generate a passcode with a missing letter, then run the function guess_passcode\n",
        "### DO NOT change anything below here\n",
        "passcode = \"\"\n",
        "letters = [chr(a) for a in range(ord('A'),ord('Z')+1)] # generate the letter between A and Z\n",
        "missing_position = randint(0,4)\n",
        "missing_letter = \"*\"\n",
        "for i in range(4):\n",
        "  letter = choice(letters)\n",
        "  if i == missing_position:\n",
        "    missing_letter = letter\n",
        "    passcode += \"*\"\n",
        "  else:\n",
        "    passcode += letter\n",
        "\n",
        "guess_passcode(passcode, missing_letter)"
      ],
      "execution_count": 8,
      "outputs": [
        {
          "output_type": "error",
          "ename": "IndentationError",
          "evalue": "ignored",
          "traceback": [
            "\u001b[0;36m  File \u001b[0;32m\"<ipython-input-8-b04fd66db01d>\"\u001b[0;36m, line \u001b[0;32m12\u001b[0m\n\u001b[0;31m    passcode = \"\"\u001b[0m\n\u001b[0m    ^\u001b[0m\n\u001b[0;31mIndentationError\u001b[0m\u001b[0;31m:\u001b[0m expected an indented block after function definition on line 4\n"
          ]
        }
      ]
    }
  ]
}
