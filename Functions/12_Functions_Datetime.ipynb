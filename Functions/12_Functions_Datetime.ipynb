{
  "nbformat": 4,
  "nbformat_minor": 0,
  "metadata": {
    "colab": {
      "provenance": [],
      "include_colab_link": true
    },
    "kernelspec": {
      "name": "python3",
      "display_name": "Python 3"
    },
    "language_info": {
      "name": "python"
    }
  },
  "cells": [
    {
      "cell_type": "markdown",
      "metadata": {
        "id": "view-in-github",
        "colab_type": "text"
      },
      "source": [
        "<a href=\"https://colab.research.google.com/github/a-sheiko/python-and-cyber/blob/main/Functions/12_Functions_Datetime.ipynb\" target=\"_parent\"><img src=\"https://colab.research.google.com/assets/colab-badge.svg\" alt=\"Open In Colab\"/></a>"
      ]
    },
    {
      "cell_type": "markdown",
      "metadata": {
        "id": "7iQyKP-SQiw1"
      },
      "source": [
        "# User-defined functions using datetime library\n",
        "\n",
        "---\n"
      ]
    },
    {
      "cell_type": "markdown",
      "metadata": {
        "id": "Vi93h5I4QnKs"
      },
      "source": [
        "When working with dates and times, fairly common in data sets, we need to be able to extract certain bits of information.  \n",
        "\n",
        "In Python, as with other languages, dates and times are stored in a data structure that combines the two together and stores the information as a number of seconds since a start point (often 1st January 1900).  This is obviously a large number but every bit of information about a date can be extracted from it and used to give a wide range of information.  \n",
        "\n",
        "Have a go at the exercises below to use a selection of datetime functions and return a new bit of data from each, to be printed by the caller.\n",
        "\n",
        "Before you can use datetime functions you will need to import them. Import the datetime functions like this:\n",
        "\n",
        "`from datetime import datetime`  \n",
        "\n",
        "\n",
        "For more information about datetime functions visit [w3Schools-Python datetime](https://www.w3schools.com/python/python_datetime.asp) and [Python docs](https://docs.python.org/3/library/datetime.html)"
      ]
    },
    {
      "cell_type": "markdown",
      "metadata": {
        "id": "MIDLi7CNR034"
      },
      "source": [
        "---\n",
        "### Exercise 1 - print current date and time\n",
        "\n",
        "Write a function that will return the date and time now.  The caller will print it.  \n",
        "\n",
        "*Hint:  the format has been added for you, the other exercises will follow a similar format.   Always remember to import datetime from datetime as shown below*"
      ]
    },
    {
      "cell_type": "code",
      "metadata": {
        "id": "gS6GJdXbQfHp",
        "outputId": "a1ba4988-074c-4728-ad5f-868d679d0a5c",
        "colab": {
          "base_uri": "https://localhost:8080/"
        }
      },
      "source": [
        "from datetime import datetime, timezone\n",
        "\n",
        "def get_datetime_now():\n",
        "\n",
        "  now_date_time = datetime.now(timezone.utc)\n",
        "  return now_date_time\n",
        "\n",
        "now_date_time = get_datetime_now()\n",
        "print(now_date_time)"
      ],
      "execution_count": null,
      "outputs": [
        {
          "output_type": "stream",
          "name": "stdout",
          "text": [
            "2023-12-13 17:08:54.561497+00:00\n"
          ]
        }
      ]
    },
    {
      "cell_type": "markdown",
      "metadata": {
        "id": "Yy24sL0bUtpF"
      },
      "source": [
        "---\n",
        "Exercise 2 - print the current year\n",
        "\n",
        "Write a function that will return the current year.  The caller will print the year."
      ]
    },
    {
      "cell_type": "code",
      "metadata": {
        "id": "YqlQqPIqUtyr",
        "outputId": "e4ccf37f-d986-4fae-e3d0-68f999bd7a7e",
        "colab": {
          "base_uri": "https://localhost:8080/"
        }
      },
      "source": [
        "from datetime import datetime\n",
        "\n",
        "def get_current_year():\n",
        "\n",
        "    current_year = datetime.now().year\n",
        "    return current_year\n",
        "\n",
        "year = get_current_year()\n",
        "print(year)"
      ],
      "execution_count": null,
      "outputs": [
        {
          "output_type": "stream",
          "name": "stdout",
          "text": [
            "2023\n"
          ]
        }
      ]
    },
    {
      "cell_type": "markdown",
      "metadata": {
        "id": "FzSVCaJKV1O1"
      },
      "source": [
        "---\n",
        "### Exercise 3 - print the current day of the week\n",
        "\n",
        "Write a function that will return the current day of the week.  The caller will print it."
      ]
    },
    {
      "cell_type": "code",
      "metadata": {
        "id": "OP4ZIXBWV1Yj",
        "outputId": "d7a2a191-dd21-42a4-e725-d13e8283a719",
        "colab": {
          "base_uri": "https://localhost:8080/"
        }
      },
      "source": [
        "from datetime import datetime\n",
        "\n",
        "def get_current_day_of_week():\n",
        "\n",
        "  current_day_of_week = datetime.now().strftime(\"%A\")\n",
        "  return current_day_of_week\n",
        "\n",
        "day_of_week = get_current_day_of_week()\n",
        "print(day_of_week)"
      ],
      "execution_count": null,
      "outputs": [
        {
          "output_type": "stream",
          "name": "stdout",
          "text": [
            "Wednesday\n"
          ]
        }
      ]
    },
    {
      "cell_type": "markdown",
      "metadata": {
        "id": "a8euCtdmWIDE"
      },
      "source": [
        "---\n",
        "### Exercise 4 - create a new date\n",
        "\n",
        "Write a function that will take 3 parameters, day, month, year (3 numbers that make a valid date) and will create, and return a new date.  The caller will print the date."
      ]
    },
    {
      "cell_type": "code",
      "metadata": {
        "id": "FbOFnTwnWILN",
        "outputId": "1da6a7bd-9ef6-482f-c041-e577969faa14",
        "colab": {
          "base_uri": "https://localhost:8080/"
        }
      },
      "source": [
        "from datetime import datetime\n",
        "\n",
        "def create_date(day, month, year):\n",
        "\n",
        "    new_date = datetime(year, month, day)\n",
        "    return new_date\n",
        "\n",
        "day = 13\n",
        "month = 12\n",
        "year = 2023\n",
        "new_date = create_date(day, month, year)\n",
        "formatted_date = new_date.strftime(\"%Y-%m-%d\")\n",
        "print(formatted_date)"
      ],
      "execution_count": null,
      "outputs": [
        {
          "output_type": "stream",
          "name": "stdout",
          "text": [
            "2023-12-13\n"
          ]
        }
      ]
    },
    {
      "cell_type": "markdown",
      "metadata": {
        "id": "f5SKVuE0WfcE"
      },
      "source": [
        "---\n",
        "### Exercise 5 - create a valid date\n",
        "\n",
        "Write a function that will take 3 parameters, day, month, year (3 numbers) and will:  \n",
        "*   check that the month is between 1 and 12  \n",
        "*   check that the day is valid for the month (e.g. if the month is 2, then the day must be between 1 and 28 (don't worry about leap years for the moment)  \n",
        "*   if the date is not valid, print an error message and return None (which the caller will print)  \n",
        "*   if the date is valid, store it in a new variable, return the variable and the caller will print it."
      ]
    },
    {
      "cell_type": "code",
      "metadata": {
        "id": "gclt-f9-XfdG",
        "outputId": "0c1fb9a2-0a38-44ef-a67a-a3e9f1e427ca",
        "colab": {
          "base_uri": "https://localhost:8080/"
        }
      },
      "source": [
        "from datetime import datetime\n",
        "\n",
        "def validate_and_create_date(day, month, year):\n",
        "\n",
        "  if not (1 <= month <= 12):\n",
        "    print(\"Invalid month. Month must be between 1 and 12.\")\n",
        "    return None\n",
        "  if month in [1, 3, 5, 7, 8, 10, 12]:\n",
        "    if not (1 <= day <= 31):\n",
        "      print(\"Invalid day. Day must be between 1 and 31 for the selected month.\")\n",
        "      return None\n",
        "  elif month in [4, 6, 9, 11]:\n",
        "    if not (1 <= day <= 30):\n",
        "      print(\"Invalid day. Day must be between 1 and 30 for the selected month.\")\n",
        "      return None\n",
        "  elif month == 2:\n",
        "    if not (1 <= day <= 28):\n",
        "      print(\"Invalid day. Day must be between 1 and 28 for February (non-leap year).\")\n",
        "      return None\n",
        "\n",
        "  new_date = datetime(year, month, day)\n",
        "  return new_date\n",
        "\n",
        "day = 29\n",
        "month = 12\n",
        "year = 2023\n",
        "result = validate_and_create_date(day, month, year)\n",
        "\n",
        "if result is not None:\n",
        "    print(result)"
      ],
      "execution_count": null,
      "outputs": [
        {
          "output_type": "stream",
          "name": "stdout",
          "text": [
            "2023-12-29 00:00:00\n"
          ]
        }
      ]
    },
    {
      "cell_type": "markdown",
      "metadata": {
        "id": "js7fy2HWXfm2"
      },
      "source": [
        "---\n",
        "### Exercise 6 - is it a leap year?\n",
        "\n",
        "Write a function that will take a date as a parameter (you will need to create the date variable before calling the function) and will determine if it is a leap year, returning True or False.\n",
        "\n",
        "*Hint:  a leap year is a year that is divisible by 4 but the centuries (1900, 2000, etc are only leap years if they are divisible by 400)*"
      ]
    },
    {
      "cell_type": "code",
      "metadata": {
        "id": "KY1jtf3lX_ps",
        "outputId": "9a4d0ef3-85c2-46b0-cffb-232c0fea3a20",
        "colab": {
          "base_uri": "https://localhost:8080/"
        }
      },
      "source": [
        "from datetime import datetime\n",
        "\n",
        "def is_leap_year(date_to_check):\n",
        "  year = date_to_check.year\n",
        "\n",
        "  if year % 4 == 0:\n",
        "    if year % 100 == 0:\n",
        "      return year % 400 == 0\n",
        "    else:\n",
        "      return True\n",
        "  else:\n",
        "      return False\n",
        "\n",
        "# Example usage\n",
        "check_date = datetime(1996, 12, 15)\n",
        "\n",
        "if is_leap_year(check_date):\n",
        "    print(check_date.strftime(\"%Y\"), \"is a leap year\")\n",
        "else:\n",
        "    print(check_date.strftime(\"%Y\"), \"is not a leap year\")"
      ],
      "execution_count": null,
      "outputs": [
        {
          "output_type": "stream",
          "name": "stdout",
          "text": [
            "1996 is a leap year\n"
          ]
        }
      ]
    },
    {
      "cell_type": "markdown",
      "metadata": {
        "id": "9BuRDi08YAO0"
      },
      "source": [
        "---\n",
        "### Exercise 7 - display parts of date/time\n",
        "\n",
        "Write a function that will take a date and print from it the following:  \n",
        "*  given date and time  \n",
        "*  year (in full)\n",
        "*  month (as a number)\n",
        "*  month name\n",
        "*  week number of the year  \n",
        "*  weekday of the week (as a number)  \n",
        "*  day of year  \n",
        "*  day of the month  \n",
        "*  day of week (as a name)  \n",
        "\n",
        "*Hint:  see w3Schools for [strftime reference](https://www.w3schools.com/python/python_datetime.asp)*\n",
        "\n"
      ]
    },
    {
      "cell_type": "code",
      "metadata": {
        "id": "zl-37Ez9ahym",
        "outputId": "5246d9e4-11ce-442a-fdfe-f163fc3f0a8e",
        "colab": {
          "base_uri": "https://localhost:8080/"
        }
      },
      "source": [
        "from datetime import datetime\n",
        "\n",
        "def print_date_info(input_date):\n",
        "    print(\"Given date and time:\", input_date.strftime(\"%Y-%m-%d %H:%M:%S\"))\n",
        "    print(\"Year (in full):\", input_date.strftime(\"%Y\"))\n",
        "    print(\"Month (as a number):\", input_date.strftime(\"%m\"))\n",
        "    print(\"Month name:\", input_date.strftime(\"%B\"))\n",
        "    print(\"Week number of the year:\", input_date.strftime(\"%U\"))\n",
        "    print(\"Weekday of the week (as a number):\", input_date.strftime(\"%w\"))\n",
        "    print(\"Day of the year:\", input_date.strftime(\"%j\"))\n",
        "    print(\"Day of the month:\", input_date.strftime(\"%d\"))\n",
        "    print(\"Day of the week (as a name):\", input_date.strftime(\"%A\"))\n",
        "\n",
        "# Example usage\n",
        "given_date = datetime(2023, 12, 15, 10, 30, 0)\n",
        "print_date_info(given_date)"
      ],
      "execution_count": null,
      "outputs": [
        {
          "output_type": "stream",
          "name": "stdout",
          "text": [
            "Given date and time: 2023-12-15 10:30:00\n",
            "Year (in full): 2023\n",
            "Month (as a number): 12\n",
            "Month name: December\n",
            "Week number of the year: 50\n",
            "Weekday of the week (as a number): 5\n",
            "Day of the year: 349\n",
            "Day of the month: 15\n",
            "Day of the week (as a name): Friday\n"
          ]
        }
      ]
    },
    {
      "cell_type": "markdown",
      "metadata": {
        "id": "_rpTIoSDaiBj"
      },
      "source": [
        "---\n",
        "### Exercise 8 - next 6 days\n",
        "\n",
        "Write a function that will take a date and generate the dates of the following 6 days.  It should print each of the 6 days in the form:  \n",
        "\n",
        "DAY OF THE WEEK, MONTH NAME, FULL YEAR\n",
        "\n",
        "Hint:  to generate the days, use the function datetime.timedelta(), there is a good example of its use [here](https://www.geeksforgeeks.org/python-datetime-timedelta-function/)  "
      ]
    },
    {
      "cell_type": "code",
      "metadata": {
        "id": "1d-oXqLLb0vX",
        "outputId": "9d81dd1f-8911-45d0-8b45-83041ed0e36f",
        "colab": {
          "base_uri": "https://localhost:8080/"
        }
      },
      "source": [
        "from datetime import datetime, timedelta\n",
        "\n",
        "def generate_next_six_days(start_date):\n",
        "    for i in range(6):\n",
        "        current_date = start_date + timedelta(days=i)\n",
        "        print(current_date.strftime(\"%A, %B %d, %Y\"))\n",
        "\n",
        "given_date = datetime(2023, 12, 15)\n",
        "generate_next_six_days(given_date)"
      ],
      "execution_count": null,
      "outputs": [
        {
          "output_type": "stream",
          "name": "stdout",
          "text": [
            "Friday, December 15, 2023\n",
            "Saturday, December 16, 2023\n",
            "Sunday, December 17, 2023\n",
            "Monday, December 18, 2023\n",
            "Tuesday, December 19, 2023\n",
            "Wednesday, December 20, 2023\n"
          ]
        }
      ]
    },
    {
      "cell_type": "markdown",
      "metadata": {
        "id": "22Rhwx2Sb1Ey"
      },
      "source": [
        "---\n",
        "### Optional extra practice\n",
        "\n",
        "There are some similar and some more challenging exercises [here](https://www.w3resource.com/python-exercises/date-time-exercise/) if you would like to practice more. The site has its own editor."
      ]
    }
  ]
}